{
  "nbformat": 4,
  "nbformat_minor": 0,
  "metadata": {
    "colab": {
      "provenance": [],
      "authorship_tag": "ABX9TyP0iqlr/ZJgVaXAnltOKaDA",
      "include_colab_link": true
    },
    "kernelspec": {
      "name": "python3",
      "display_name": "Python 3"
    },
    "language_info": {
      "name": "python"
    }
  },
  "cells": [
    {
      "cell_type": "markdown",
      "metadata": {
        "id": "view-in-github",
        "colab_type": "text"
      },
      "source": [
        "<a href=\"https://colab.research.google.com/github/HsuLiSheng/big-data/blob/main/5_%E7%B6%B2%E7%AB%99%E7%9B%B8%E7%B0%BF%E4%B8%8B%E8%BC%89.ipynb\" target=\"_parent\"><img src=\"https://colab.research.google.com/assets/colab-badge.svg\" alt=\"Open In Colab\"/></a>"
      ]
    },
    {
      "cell_type": "code",
      "source": [
        "###Colab要先安裝才能使用selenium\n",
        "###!pip install selenium\n",
        "###!apt-get update  # to update ubuntu to correctly run apt install\n",
        "###!apt install chromium-chromedriver"
      ],
      "metadata": {
        "id": "qutq1CpJFXBy"
      },
      "execution_count": null,
      "outputs": []
    },
    {
      "cell_type": "code",
      "execution_count": 1,
      "metadata": {
        "colab": {
          "base_uri": "https://localhost:8080/"
        },
        "id": "QHDzSW2y4Uu5",
        "outputId": "5e319b84-97d4-4380-c53e-f21b09809e84"
      },
      "outputs": [
        {
          "output_type": "stream",
          "name": "stdout",
          "text": [
            "Looking in indexes: https://pypi.org/simple, https://us-python.pkg.dev/colab-wheels/public/simple/\n",
            "Requirement already satisfied: selenium in /usr/local/lib/python3.7/dist-packages (4.6.0)\n",
            "Requirement already satisfied: trio~=0.17 in /usr/local/lib/python3.7/dist-packages (from selenium) (0.22.0)\n",
            "Requirement already satisfied: trio-websocket~=0.9 in /usr/local/lib/python3.7/dist-packages (from selenium) (0.9.2)\n",
            "Requirement already satisfied: certifi>=2021.10.8 in /usr/local/lib/python3.7/dist-packages (from selenium) (2022.9.24)\n",
            "Requirement already satisfied: urllib3[socks]~=1.26 in /usr/local/lib/python3.7/dist-packages (from selenium) (1.26.12)\n",
            "Requirement already satisfied: attrs>=19.2.0 in /usr/local/lib/python3.7/dist-packages (from trio~=0.17->selenium) (22.1.0)\n",
            "Requirement already satisfied: sortedcontainers in /usr/local/lib/python3.7/dist-packages (from trio~=0.17->selenium) (2.4.0)\n",
            "Requirement already satisfied: async-generator>=1.9 in /usr/local/lib/python3.7/dist-packages (from trio~=0.17->selenium) (1.10)\n",
            "Requirement already satisfied: outcome in /usr/local/lib/python3.7/dist-packages (from trio~=0.17->selenium) (1.2.0)\n",
            "Requirement already satisfied: idna in /usr/local/lib/python3.7/dist-packages (from trio~=0.17->selenium) (2.10)\n",
            "Requirement already satisfied: sniffio in /usr/local/lib/python3.7/dist-packages (from trio~=0.17->selenium) (1.3.0)\n",
            "Requirement already satisfied: exceptiongroup>=1.0.0rc9 in /usr/local/lib/python3.7/dist-packages (from trio~=0.17->selenium) (1.0.1)\n",
            "Requirement already satisfied: wsproto>=0.14 in /usr/local/lib/python3.7/dist-packages (from trio-websocket~=0.9->selenium) (1.2.0)\n",
            "Requirement already satisfied: PySocks!=1.5.7,<2.0,>=1.5.6 in /usr/local/lib/python3.7/dist-packages (from urllib3[socks]~=1.26->selenium) (1.7.1)\n",
            "Requirement already satisfied: h11<1,>=0.9.0 in /usr/local/lib/python3.7/dist-packages (from wsproto>=0.14->trio-websocket~=0.9->selenium) (0.14.0)\n",
            "Requirement already satisfied: typing-extensions in /usr/local/lib/python3.7/dist-packages (from h11<1,>=0.9.0->wsproto>=0.14->trio-websocket~=0.9->selenium) (4.1.1)\n"
          ]
        }
      ],
      "source": [
        "!pip install selenium"
      ]
    },
    {
      "cell_type": "code",
      "source": [
        "!apt-get update "
      ],
      "metadata": {
        "colab": {
          "base_uri": "https://localhost:8080/"
        },
        "id": "wPTXRFIQ7kI6",
        "outputId": "8eff8bdf-c24f-42e3-dd39-5eca586e3b10"
      },
      "execution_count": 2,
      "outputs": [
        {
          "output_type": "stream",
          "name": "stdout",
          "text": [
            "Hit:1 http://security.ubuntu.com/ubuntu bionic-security InRelease\n",
            "Hit:2 https://cloud.r-project.org/bin/linux/ubuntu bionic-cran40/ InRelease\n",
            "Hit:3 http://archive.ubuntu.com/ubuntu bionic InRelease\n",
            "Ign:4 https://developer.download.nvidia.com/compute/machine-learning/repos/ubuntu1804/x86_64  InRelease\n",
            "Hit:5 https://developer.download.nvidia.com/compute/cuda/repos/ubuntu1804/x86_64  InRelease\n",
            "Hit:6 https://developer.download.nvidia.com/compute/machine-learning/repos/ubuntu1804/x86_64  Release\n",
            "Hit:7 http://ppa.launchpad.net/c2d4u.team/c2d4u4.0+/ubuntu bionic InRelease\n",
            "Get:8 http://archive.ubuntu.com/ubuntu bionic-updates InRelease [88.7 kB]\n",
            "Hit:9 http://ppa.launchpad.net/cran/libgit2/ubuntu bionic InRelease\n",
            "Get:10 http://archive.ubuntu.com/ubuntu bionic-backports InRelease [83.3 kB]\n",
            "Hit:11 http://ppa.launchpad.net/deadsnakes/ppa/ubuntu bionic InRelease\n",
            "Hit:12 http://ppa.launchpad.net/graphics-drivers/ppa/ubuntu bionic InRelease\n",
            "Fetched 172 kB in 3s (54.4 kB/s)\n",
            "Reading package lists... Done\n"
          ]
        }
      ]
    },
    {
      "cell_type": "code",
      "source": [
        "!apt install chromium-chromedriver"
      ],
      "metadata": {
        "colab": {
          "base_uri": "https://localhost:8080/"
        },
        "id": "rlUUVC5H7sMJ",
        "outputId": "99e2115d-1918-4468-c2c8-538596e3081f"
      },
      "execution_count": 3,
      "outputs": [
        {
          "output_type": "stream",
          "name": "stdout",
          "text": [
            "Reading package lists... Done\n",
            "Building dependency tree       \n",
            "Reading state information... Done\n",
            "chromium-chromedriver is already the newest version (107.0.5304.87-0ubuntu11.18.04.1).\n",
            "The following package was automatically installed and is no longer required:\n",
            "  libnvidia-common-460\n",
            "Use 'apt autoremove' to remove it.\n",
            "0 upgraded, 0 newly installed, 0 to remove and 10 not upgraded.\n"
          ]
        }
      ]
    },
    {
      "cell_type": "code",
      "source": [
        "from google.colab import drive\n",
        "\n",
        "drive.mount('/content/drive')"
      ],
      "metadata": {
        "colab": {
          "base_uri": "https://localhost:8080/"
        },
        "id": "zuWEs7aO6JGJ",
        "outputId": "01eae7bb-6f87-4277-9e60-e1179801d456"
      },
      "execution_count": 4,
      "outputs": [
        {
          "output_type": "stream",
          "name": "stdout",
          "text": [
            "Drive already mounted at /content/drive; to attempt to forcibly remount, call drive.mount(\"/content/drive\", force_remount=True).\n"
          ]
        }
      ]
    },
    {
      "cell_type": "code",
      "source": [
        "from selenium import webdriver\n",
        "from urllib.request import urlopen\n",
        "from bs4 import BeautifulSoup\n",
        "import os,time\n",
        "\n",
        "###沒設定參數的話，每次selenium開啟chrome瀏覽器會是個裸瀏覽器\n",
        "chrome_options = webdriver.ChromeOptions()\n",
        "\n",
        "###add_argument:添加啟動參數\n",
        "###不顯示瀏覽器，在無桌面環境下啟動\n",
        "chrome_options.add_argument('--headless')\n",
        "###以root身分執行瀏覽器\n",
        "chrome_options.add_argument('--no-sandbox')\n",
        "###使用/tmp而非/dev/shm作為暫存區\n",
        "chrome_options.add_argument('--disable-dev-shm-usage')\n",
        "driver = webdriver.Chrome('chromedriver',options=chrome_options)\n",
        "\n",
        "url = 'https://running.biji.co/index.php?q=album&act=photo_list&album_id=48414&cid=10128&type=album&subtitle=%E5%85%AB%E7%99%BE%E5%A3%AF%E5%A3%AB%E8%B6%85%E9%A6%AC%E7%B3%BB%E5%88%97-%E5%88%B6%E9%9C%B8%E7%92%B0%E5%8C%96100mile%E8%B6%85%E9%A6%AC-%E8%B5%B7%E8%B7%91%E9%BB%9E'\n",
        "\n",
        "driver.get(url)"
      ],
      "metadata": {
        "id": "dvA0xx3s4hpp"
      },
      "execution_count": 23,
      "outputs": []
    },
    {
      "cell_type": "code",
      "source": [
        "###隱性等待:最多等待幾秒鐘\n",
        "driver.implicitly_wait(1)\n",
        "\n",
        "\n",
        "###向下捲動10次\n",
        "for i in range(1,11):\n",
        "  ###將捲軸向下捲動\n",
        "  driver.execute_script(\"window.scrollTo(0, document.body.scrollHeight);\")\n",
        "  time.sleep(1)\n",
        "\n",
        "soup = BeautifulSoup(driver.page_source, 'html.parser')\n",
        "###取得標題，以select方式找到album-title類別中的第一筆資料，取得內容後濾除前後空白字元傳回變數\n",
        "title = soup.select('.album-title')[0].text.strip() \n",
        "print(title)\n",
        "\n",
        "###找到所有img標籤中類別名稱為photo_img photo-img的資料，回傳一個串列\n",
        "all_image = soup.find_all('img', {\"class\":\"photo_img photo-img\"})\n",
        "\n",
        "###建立目錄儲存照片\n",
        "path = '/content/drive/MyDrive/Colab Notebooks/big data sample/photo'\n",
        "if not os.path.exists(path):\n",
        "  os.mkdir(path)\n",
        "\n",
        "###紀錄下載了幾張圖片\n",
        "n=0\n",
        "\n",
        "for img in all_image:\n",
        "  ###讀取照片網址的屬性\n",
        "  src = img.get('src')\n",
        "  ###判斷是否含有.jpg\n",
        "  if src != None and ('.JPG' in src):\n",
        "    full_path = src\n",
        "    ###取得圖檔名(把前面共同網址去掉)\n",
        "    filename = full_path.split('/')[-1] \n",
        "\n",
        "    ###圖檔可能會因為權限無法讀取，以try-except避免程式被中斷\n",
        "    try:\n",
        "      ###以urlopen讀取圖檔\n",
        "      image = urlopen(full_path)\n",
        "      ###open建立圖檔儲存的路徑和名稱\n",
        "      with open(os.path.join(path,filename),'wb') as f:\n",
        "        ###以write儲存圖檔\n",
        "        f.write(image.read())\n",
        "      n += 1\n",
        "      ###最多下載100張照片\n",
        "      if n>=100:\n",
        "        break  \n",
        "      elif n%10 == 0:\n",
        "        print('下載了 '+ str(n) +' 張照片')  \n",
        "    except:\n",
        "      print(\"{}無法讀取\".format(filename))\n",
        "\n",
        "driver.quit()  ###關閉瀏覽器並退出驅動程式"
      ],
      "metadata": {
        "colab": {
          "base_uri": "https://localhost:8080/"
        },
        "id": "_Mskkj5M_2h6",
        "outputId": "3134a205-b199-4181-8b6d-aa42b30f885f"
      },
      "execution_count": 25,
      "outputs": [
        {
          "output_type": "stream",
          "name": "stdout",
          "text": [
            "八百壯士超馬系列-制霸環化100mile超馬 - 起跑點\n"
          ]
        }
      ]
    }
  ]
}