{
  "nbformat": 4,
  "nbformat_minor": 0,
  "metadata": {
    "colab": {
      "provenance": [],
      "authorship_tag": "ABX9TyMeuh1t9aSGNZWeE1LmdWhN",
      "include_colab_link": true
    },
    "kernelspec": {
      "name": "python3",
      "display_name": "Python 3"
    },
    "language_info": {
      "name": "python"
    }
  },
  "cells": [
    {
      "cell_type": "markdown",
      "metadata": {
        "id": "view-in-github",
        "colab_type": "text"
      },
      "source": [
        "<a href=\"https://colab.research.google.com/github/HsuLiSheng/big-data/blob/main/1_%E6%95%B8%E6%93%9A%E7%88%AC%E5%8F%96%E8%88%87%E5%88%86%E6%9E%90.ipynb\" target=\"_parent\"><img src=\"https://colab.research.google.com/assets/colab-badge.svg\" alt=\"Open In Colab\"/></a>"
      ]
    },
    {
      "cell_type": "code",
      "execution_count": 1,
      "metadata": {
        "id": "jxS65BPK5VcS"
      },
      "outputs": [],
      "source": [
        "###Requests\n",
        "###BeautifulSoup\n",
        "###Regular Expression\n",
        "###Selenium:能夠瀏覽器自動化操作，藉由Chrome WebDriver和尋找網頁元素\n",
        "###Pandas:對資料分析及處理，也可以做儲存/讀取的動作"
      ]
    },
    {
      "cell_type": "code",
      "source": [
        "###requests.get():發送請求給到伺服器，當伺服器接收請求後會回應內容\n",
        " #可添加URL查詢參數向網站提出請求，可以得到帶有參數的網址，參數名:params\n",
        " #Headers用來表示用戶端瀏覽器，請求頁面，伺服器等等相關資訊\n",
        "\n",
        "###requests.post():網頁中有讓使用者填入資料的表單\n",
        " #可添加URL查詢參數向網站提出請求，參數名:data\n",
        "\n",
        "###session與cookie:識別憑證->憑證存在用戶端為cookie，伺服器為session，只要session和cookie沒有過期，伺服器就能辨識\n",
        "\n",
        "\n",
        "\n",
        "\n",
        "###對於需要認證動作取得身分進行的網頁，要搭配session。->建立session，以post方式帶參數登錄後再使用原來的cookie以get的方式帶參數進入頁面\n",
        "import requests\n",
        "from bs4 import BeautifulSoup\n",
        "\n",
        "payload = {\n",
        "    'from': 'https://www.ptt.cc/bbs/Gossiping/index.html', ###標示從哪個網頁來的\n",
        "    'yes': 'yes'  ###按鈕的預設值\n",
        "      }\n",
        "\n",
        "headers = {\n",
        "    'user-agent': 'Mozilla/5.0 AppleWebKit/537.36 Chrome/56.0.2924.87 Safari/537.36' ###用來騙過網頁伺服器的防護\n",
        "}\n",
        "\n",
        "rs = requests.Session()\n",
        "rs.post('https://www.ptt.cc/ask/over18', data=payload, headers=headers)\n",
        "res = rs.get('https://www.ptt.cc/bbs/Gossiping/index.html', headers=headers)\n",
        "\n",
        "\n",
        "soup = BeautifulSoup(res.text, 'html.parser')\n",
        "items = soup.select('.r-ent')\n",
        "for item in items:\n",
        "  print(item.select('.title')[0].text,\n",
        "     item.select('.author')[0].text)"
      ],
      "metadata": {
        "id": "T2ijQyQA6ZPm",
        "colab": {
          "base_uri": "https://localhost:8080/"
        },
        "outputId": "63492aad-6af2-450f-d1c7-148ab208f23b"
      },
      "execution_count": 2,
      "outputs": [
        {
          "output_type": "stream",
          "name": "stderr",
          "text": [
            "/usr/local/lib/python3.7/dist-packages/requests/__init__.py:91: RequestsDependencyWarning: urllib3 (1.26.12) or chardet (3.0.4) doesn't match a supported version!\n",
            "  RequestsDependencyWarning)\n"
          ]
        },
        {
          "output_type": "stream",
          "name": "stdout",
          "text": [
            "\n",
            "Re: [新聞] 鹹豬手事件 黃珊珊罕見聲援陳時中：舒不\n",
            " maile\n",
            "\n",
            "[問卦] 勝利女神妮姬主要好玩在哪裡??\n",
            " sakeya\n",
            "\n",
            "[問卦] 知道迴紋針小幫手的都幾歲？\n",
            " coon182\n",
            "\n",
            "[問卦] “ 評測”是支語？以前怎講？\n",
            " generalfungi\n",
            "\n",
            "[問卦] 明晚\"月全食+紅月掩天王\"是不是有大事了?\n",
            " nextpage\n",
            "\n",
            "[問卦] 為啥一堆左派都在罵馬斯克買推特?\n",
            " arsl400\n",
            "\n",
            "[新聞] 杜拜摩天大樓深夜陷火海！35層樓「一路燒\n",
            " zxcvbnm00316\n",
            "\n",
            "[新聞] 柯文哲指台北新竹選民水準高 稱棄保效應\n",
            " Daz2005i\n",
            "\n",
            "[問卦] 發現外星人要怎麼溝通\n",
            " Brad255\n",
            "\n",
            "[問卦] 確診的人喉嚨痛怎麼補充水分\n",
            " sdamel\n",
            "\n",
            "[問卦] 你在最偏遠的唱片行看過最紅的明星是？\n",
            " toofat\n",
            "\n",
            "[問卦] 海水退潮就知道誰沒穿褲子游泳？\n",
            " HDSM\n",
            "\n",
            "Re: [新聞] 鹹豬手事件 黃珊珊罕見聲援陳時中：舒不\n",
            " suhaw\n",
            "\n",
            "[新聞] 被嗆害死很多人陳時中哽咽 談牽手風波「\n",
            " Aqqqa\n",
            "\n",
            "[爆卦] 郭台銘FB 台灣早產兒協會 1111慈善計畫\n",
            " GoOdGaMe\n",
            "\n",
            "Re: [新聞] 驚悚影片！女闖紅燈走斑馬線遭撞　倒地再\n",
            " mikemagic88\n",
            "\n",
            "[新聞] 公車「提供免費wife」　地方爸爸暴動了：\n",
            " emperor\n",
            "\n",
            "[問卦] 家產破億or有事業可接的人會有煩惱嗎?\n",
            " pttbeer\n",
            "\n",
            "Re: [新聞] 聚餐8006元卻「算整數9000給委員」 林耕\n",
            " dj720c\n",
            "\n",
            "[問卦] 最近蟑螂紛紛冒出來了怎麼辦？\n",
            " t7556281\n",
            "\n",
            "[公告] 八卦板板規(2022.11.01)\n",
            " lwt501cx\n",
            "\n",
            "[公告] 十一月禁尻跟即將全台縣市大選的閒聊區\n",
            " ubcs\n"
          ]
        }
      ]
    },
    {
      "cell_type": "code",
      "source": [
        "###常用屬性: 1.tag名稱:傳回指定tag內容\n",
        "#      2.text:傳回去除HTML標籤後的網頁文字內容\n",
        "#      3.find:傳回第一個符合條件的tag\n",
        "#      4.find_all:傳回所有符合條件的tag\n",
        "#      5.select:傳回指定選擇器的內容，如:id(#)或class(.)\n",
        "\n",
        "###利用requests模組取得網頁的原始碼，利用BeautifulSoap和html.parser解析原始碼\n",
        "sp =BeautifulSoup(res.text, 'html.parser')\n",
        "print(sp.title)\n",
        "#print(sp.find_all('a', {'href':'/bbs/Gossiping/M.1667823243.A.2F5.html'})[0].text) ###從標籤<a>中找到相對應屬性的內容(找到特定href對應的標題)\n",
        "print(sp.select('.title')[0].text) ###[0]對找到的特定列做文字內容的提取"
      ],
      "metadata": {
        "colab": {
          "base_uri": "https://localhost:8080/"
        },
        "id": "iuvgfZnnDC-y",
        "outputId": "ae1dfada-8424-4764-dff0-611dac7d942d"
      },
      "execution_count": 4,
      "outputs": [
        {
          "output_type": "stream",
          "name": "stdout",
          "text": [
            "<title>看板 Gossiping 文章列表 - 批踢踢實業坊</title>\n",
            "\n",
            "Re: [新聞] 鹹豬手事件 黃珊珊罕見聲援陳時中：舒不\n",
            "\n"
          ]
        }
      ]
    },
    {
      "cell_type": "code",
      "source": [
        "###用一些特殊符號的輔助來搜尋或是取代資料中某些特定字串的處理\n",
        "import re\n",
        "\n",
        "###r告訴編譯器此參數為正規表示式\n",
        "#m = re.match(r'[a-z]+','tem123po') ###match:從字串開頭開始傳回符合正規表示式的字串，直到不符合的字元出現\n",
        "#print(m) #<re.Match object; span=(0, 3), match='tem'>\n",
        "\n",
        "\n",
        "m = re.search(r'[a-z]+','12tem12po') ###search:傳回字串中第一組符合正規表示式的字串\n",
        "#print(m) #<re.Match object; span=(2, 5), match='tem'>\n",
        "if not m==None:\n",
        "  print(m.group()) ###傳回符合的字串\n",
        "  print(m.start())\n",
        "  print(m.end())\n",
        "  print(m.span())  ###(start,end)\n",
        "\n",
        "reobj = re.compile(r'[a-z]+')  ###compile:將常用的表示式轉化為正規表示式物件\n",
        "ma = reobj.findall('12tem12po') ###findall:傳回字串中中所有符合正規表示式的字串\n",
        "#print(ma) #['tem', 'po']"
      ],
      "metadata": {
        "colab": {
          "base_uri": "https://localhost:8080/"
        },
        "id": "Aun3h7PxI5-j",
        "outputId": "f670898e-6f63-42b8-c63e-b721c9a7fc8b"
      },
      "execution_count": 5,
      "outputs": [
        {
          "output_type": "stream",
          "name": "stdout",
          "text": [
            "tem\n",
            "2\n",
            "5\n",
            "(2, 5)\n"
          ]
        }
      ]
    }
  ]
}