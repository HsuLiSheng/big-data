{
  "nbformat": 4,
  "nbformat_minor": 0,
  "metadata": {
    "colab": {
      "provenance": [],
      "collapsed_sections": [],
      "authorship_tag": "ABX9TyMFi22jjELROl56eiLgc7mc",
      "include_colab_link": true
    },
    "kernelspec": {
      "name": "python3",
      "display_name": "Python 3"
    },
    "language_info": {
      "name": "python"
    }
  },
  "cells": [
    {
      "cell_type": "markdown",
      "metadata": {
        "id": "view-in-github",
        "colab_type": "text"
      },
      "source": [
        "<a href=\"https://colab.research.google.com/github/HsuLiSheng/big-data/blob/main/7_%E7%94%A8line%E5%8D%B3%E6%99%82%E5%82%B3%E9%80%81%E8%82%A1%E5%83%B9.ipynb\" target=\"_parent\"><img src=\"https://colab.research.google.com/assets/colab-badge.svg\" alt=\"Open In Colab\"/></a>"
      ]
    },
    {
      "cell_type": "code",
      "execution_count": 1,
      "metadata": {
        "colab": {
          "base_uri": "https://localhost:8080/"
        },
        "id": "xwHzaAe6MbrR",
        "outputId": "d4b5474a-4fe9-4234-e313-c25a508f497d"
      },
      "outputs": [
        {
          "output_type": "stream",
          "name": "stdout",
          "text": [
            "Looking in indexes: https://pypi.org/simple, https://us-python.pkg.dev/colab-wheels/public/simple/\n",
            "Collecting twstock\n",
            "  Downloading twstock-1.3.1-py3-none-any.whl (1.9 MB)\n",
            "\u001b[K     |████████████████████████████████| 1.9 MB 5.3 MB/s \n",
            "\u001b[?25hRequirement already satisfied: requests in /usr/local/lib/python3.7/dist-packages (from twstock) (2.23.0)\n",
            "Requirement already satisfied: chardet<4,>=3.0.2 in /usr/local/lib/python3.7/dist-packages (from requests->twstock) (3.0.4)\n",
            "Requirement already satisfied: idna<3,>=2.5 in /usr/local/lib/python3.7/dist-packages (from requests->twstock) (2.10)\n",
            "Requirement already satisfied: certifi>=2017.4.17 in /usr/local/lib/python3.7/dist-packages (from requests->twstock) (2022.9.24)\n",
            "Requirement already satisfied: urllib3!=1.25.0,!=1.25.1,<1.26,>=1.21.1 in /usr/local/lib/python3.7/dist-packages (from requests->twstock) (1.24.3)\n",
            "Installing collected packages: twstock\n",
            "Successfully installed twstock-1.3.1\n"
          ]
        }
      ],
      "source": [
        "pip install twstock"
      ]
    },
    {
      "cell_type": "code",
      "source": [
        "import twstock\n",
        "\n",
        "###查詢股票歷史資料\n",
        "stock = twstock.Stock('2498')\n",
        "\n",
        "###回傳股票最近31筆收盤價\n",
        "print(stock.price)  \n",
        "\n",
        "#print(type(stock.fetch(2022,10))) ###<class 'list'>\n",
        "\n",
        "###回傳指定月份的資料\n",
        "print(stock.fetch(2022,10)[0])"
      ],
      "metadata": {
        "colab": {
          "base_uri": "https://localhost:8080/"
        },
        "id": "koyrk75mNFol",
        "outputId": "fb7a3b94-fdc5-404d-eb09-220fafb08d41"
      },
      "execution_count": 5,
      "outputs": [
        {
          "output_type": "stream",
          "name": "stdout",
          "text": [
            "[54.8, 54.3, 55.9, 55.0, 56.5, 55.9, 51.6, 53.0, 49.05, 51.7, 52.5, 52.0, 51.7, 51.0, 49.25, 49.65, 49.05, 48.4, 50.3, 48.3, 50.5, 50.9, 50.5, 52.7, 53.5, 52.5, 51.8, 53.4, 52.7, 52.4, 54.3]\n",
            "Data(date=datetime.datetime(2022, 10, 3, 0, 0), capacity=26802663, turnover=1448453576, open=53.4, high=55.1, low=53.2, close=54.3, change=-0.5, transaction=12893)\n"
          ]
        }
      ]
    },
    {
      "cell_type": "code",
      "source": [
        "###查詢股票的即時資料\n",
        "real_stock = twstock.realtime.get('2498')\n",
        "real_stock"
      ],
      "metadata": {
        "colab": {
          "base_uri": "https://localhost:8080/"
        },
        "id": "-Hk0k71DPdk0",
        "outputId": "17255b97-1e15-40d6-882d-f7523862eb6f"
      },
      "execution_count": 8,
      "outputs": [
        {
          "output_type": "execute_result",
          "data": {
            "text/plain": [
              "{'timestamp': 1668481825.0,\n",
              " 'info': {'code': '2498',\n",
              "  'channel': '2498.tw',\n",
              "  'name': '宏達電',\n",
              "  'fullname': '宏達國際電子股份有限公司',\n",
              "  'time': '2022-11-15 03:10:25'},\n",
              " 'realtime': {'latest_trade_price': '-',\n",
              "  'trade_volume': '-',\n",
              "  'accumulate_trade_volume': '10701',\n",
              "  'best_bid_price': ['53.6000', '53.5000', '53.4000', '53.3000', '53.2000'],\n",
              "  'best_bid_volume': ['13', '71', '107', '155', '181'],\n",
              "  'best_ask_price': ['53.7000', '53.8000', '53.9000', '54.0000', '54.1000'],\n",
              "  'best_ask_volume': ['42', '52', '58', '155', '119'],\n",
              "  'open': '54.3000',\n",
              "  'high': '54.7000',\n",
              "  'low': '53.3000'},\n",
              " 'success': True}"
            ]
          },
          "metadata": {},
          "execution_count": 8
        }
      ]
    },
    {
      "cell_type": "code",
      "source": [
        "###IFTTT網站的授權碼:dyD_z6_HejbawocpTO_bNOAosfA6S4C-D6HdjeWqqm3\n",
        "\n",
        "import time\n",
        "import requests\n",
        "from datetime import datetime, timedelta\n",
        "\n",
        "####紀錄發送3次訊息或是顯示3次錯誤訊息就結束程式\n",
        "countsuccess = 0\n",
        "counterror = 0\n",
        "\n",
        "print('程序開始執行')\n",
        "while True:\n",
        "  current = datetime.now() + timedelta(hours=8)\n",
        "  print('現在時間' + current.strftime(\"%H:%M:%S\"))\n",
        "  real_stock = twstock.realtime.get('2498')\n",
        "  if real_stock['success']:\n",
        "    ###如果即時股價沒顯示出來的話，利用五檔委賣股價查看\n",
        "    if not real_stock['realtime']['latest_trade_price'] == '_':\n",
        "      real_price = real_stock['realtime']['latest_trade_price']\n",
        "      status = '即時股價'\n",
        "    else:\n",
        "      real_price = real_stock['realtime']['best_ask_price'][0]\n",
        "      status = '五檔委賣股價'  \n",
        "\n",
        "    ###股價大於某個值才會發送訊息  \n",
        "    if float(real_price) >= 50:\n",
        "      print('宏達電' + status + ':' + real_price)\n",
        "      countsuccess += 1\n",
        "      url_ifttt = 'https://maker.ifttt.com/trigger/stockLINE/with/key/dyD_z6_HejbawocpTO_bNOAosfA6S4C-D6HdjeWqqm3?value1=' + real_price\n",
        "      res1 = requests.get(url_ifttt)\n",
        "      print('第' + str(countsuccess) + '次發送LINE訊息')\n",
        "    if countsuccess >=3:\n",
        "      print('回傳3次訊息，結束程序!!')\n",
        "      break\n",
        "    time.sleep(60)  \n",
        "  else:\n",
        "    print('股票讀取錯誤，原因:' + real_stock['rtmessage'])\n",
        "    counterror += 1\n",
        "    if counterror >= 3:\n",
        "      print('超過3次錯誤，結束程序!!')\n",
        "      break\n",
        "    time.sleep(60)  "
      ],
      "metadata": {
        "colab": {
          "base_uri": "https://localhost:8080/"
        },
        "id": "6itFk0EuT8pL",
        "outputId": "018416f6-8642-4d34-ff29-725c2f642458"
      },
      "execution_count": 17,
      "outputs": [
        {
          "output_type": "stream",
          "name": "stdout",
          "text": [
            "程序開始執行\n",
            "現在時間13:34:55\n",
            "宏達電現在股價:54.3000\n",
            "第1次發送LINE訊息\n",
            "現在時間13:35:56\n",
            "宏達電現在股價:54.3000\n",
            "第2次發送LINE訊息\n",
            "現在時間13:36:59\n",
            "宏達電現在股價:54.3000\n",
            "第3次發送LINE訊息\n",
            "回傳3次訊息，結束程序!!\n"
          ]
        }
      ]
    }
  ]
}