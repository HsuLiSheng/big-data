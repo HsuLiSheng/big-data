{
  "nbformat": 4,
  "nbformat_minor": 0,
  "metadata": {
    "colab": {
      "provenance": [],
      "authorship_tag": "ABX9TyNVrdxwNoHrWDLF91aR0JbN",
      "include_colab_link": true
    },
    "kernelspec": {
      "name": "python3",
      "display_name": "Python 3"
    },
    "language_info": {
      "name": "python"
    }
  },
  "cells": [
    {
      "cell_type": "markdown",
      "metadata": {
        "id": "view-in-github",
        "colab_type": "text"
      },
      "source": [
        "<a href=\"https://colab.research.google.com/github/HsuLiSheng/big-data/blob/main/8_%E6%9B%B8%E5%BA%97%E6%96%B0%E6%9B%B8%E6%8E%92%E8%A1%8C%E6%A6%9C.ipynb\" target=\"_parent\"><img src=\"https://colab.research.google.com/assets/colab-badge.svg\" alt=\"Open In Colab\"/></a>"
      ]
    },
    {
      "cell_type": "code",
      "source": [
        "from google.colab import drive\n",
        "\n",
        "drive.mount('/content/drive')"
      ],
      "metadata": {
        "colab": {
          "base_uri": "https://localhost:8080/"
        },
        "id": "ZlKfchYEgOWP",
        "outputId": "763b8ef8-0688-4149-ceab-2805e80a8802"
      },
      "execution_count": 1,
      "outputs": [
        {
          "output_type": "stream",
          "name": "stdout",
          "text": [
            "Mounted at /content/drive\n"
          ]
        }
      ]
    },
    {
      "cell_type": "code",
      "source": [
        "###找每個分類中共有幾頁再每一頁查詢\n",
        "###url:不同分類的網址, kind:分類的名稱\n",
        "def showbook(url, kind):\n",
        "   html = requests.get(url)\n",
        "   soup = BeautifulSoup(html.text, 'html.parser')\n",
        "   \n",
        "   ###可能沒有分頁處理\n",
        "   try:\n",
        "     ###先找到class=cnt_page的div後再把div中的第一個span取出來(=頁數)\n",
        "     pages = int(soup.select('.cnt_page span')[0].text)\n",
        "     print(\"共有\"+ str(pages) + '頁')\n",
        "     for i in range(1, pages+1):\n",
        "       ###組成各個分頁的網址\n",
        "       url_page = url + '&page=' + str(i).strip()\n",
        "       print('第' + str(i) + '頁:' + url_page)\n",
        "       showpage(url_page, kind)\n",
        "       if i == 2:\n",
        "         break\n",
        "   except:\n",
        "     print('第一頁:' + url)\n",
        "     showpage(url, kind)   \n",
        "\n",
        "def digit(num):\n",
        "  if num<10:\n",
        "    numstr = '0' + str(num)\n",
        "  else:\n",
        "    numstr = str(num)\n",
        "  return numstr\n",
        "\n",
        "###找到該分頁中每本書的資訊並存入list中\n",
        "###url:分頁的網址\n",
        "def showpage(url ,kind):\n",
        "   html = requests.get(url)\n",
        "   soup = BeautifulSoup(html.text, 'html.parser')\n",
        "   ###取得class=mod type02_m012 clearfix的第一個div區塊\n",
        "   res = soup.find_all('div', {'class':'mod type02_m012 clearfix'})[0]\n",
        "   ###取得所有class=item的div區塊\n",
        "   items = res.select('.item')\n",
        "   n=0\n",
        "   for item in items:\n",
        "     ###取得class=msg的第一個div區塊\n",
        "     msg = item.select('.msg')[0]\n",
        "     ###其中的3個'a'標籤\n",
        "     title = msg.select('a')[0].text\n",
        "     author = msg.select('a')[1].text\n",
        "     publish = msg.select('a')[2].text\n",
        "     ###取得span內容後用:把出版日期分開取出\n",
        "     date = msg.find('span').text.split(\":\")[-1]\n",
        "     \n",
        "     ###取得'a'標籤中第一個'img'標籤裡的'src'屬性內容，此為圖片書本的資料\n",
        "     src = item.select('a img')[0][\"src\"]\n",
        "     ###取出圖片網址\n",
        "     imgurl = src.split(\"?!=\")[-1].split(\"&\")[0]\n",
        "\n",
        "     sale_price = item.select('.price .set2')[0].text\n",
        "     ###將空白字元以空字串代替，同時濾除前後的字元\n",
        "     content = item.select('.txt_cont')[0].text.replace(\" \",\"\").strip()\n",
        "     \n",
        "     listdata = [kind, title, imgurl, author, publish, date, sale_price, content]\n",
        "     list1.append(listdata)\n",
        "\n",
        "     n += 1\n",
        "     print('查到的第' + str(n) + '本書')\n",
        "     if n==3:\n",
        "       break        "
      ],
      "metadata": {
        "id": "5wSRs2qcQFFe"
      },
      "execution_count": 21,
      "outputs": []
    },
    {
      "cell_type": "code",
      "execution_count": 23,
      "metadata": {
        "colab": {
          "base_uri": "https://localhost:8080/"
        },
        "id": "seVy9PNoNuzm",
        "outputId": "8e92ec6a-d373-4171-dfcd-5f67aa8ff230"
      },
      "outputs": [
        {
          "output_type": "stream",
          "name": "stdout",
          "text": [
            "第1個分類:文學小說\n",
            "共有6頁\n",
            "第1頁:https://www.books.com.tw/web/books_nbtopm_01/?v=1&o=5&page=1\n",
            "查到的第1本書\n",
            "查到的第2本書\n",
            "查到的第3本書\n",
            "第2頁:https://www.books.com.tw/web/books_nbtopm_01/?v=1&o=5&page=2\n",
            "查到的第1本書\n",
            "查到的第2本書\n",
            "查到的第3本書\n",
            "第2個分類:商業理財\n",
            "共有3頁\n",
            "第1頁:https://www.books.com.tw/web/books_nbtopm_02/?v=1&o=5&page=1\n",
            "查到的第1本書\n",
            "查到的第2本書\n",
            "查到的第3本書\n",
            "第2頁:https://www.books.com.tw/web/books_nbtopm_02/?v=1&o=5&page=2\n",
            "查到的第1本書\n",
            "查到的第2本書\n",
            "查到的第3本書\n",
            "第3個分類:旅遊\n",
            "第一頁:https://www.books.com.tw/web/books_nbtopm_11/?v=1&o=5\n",
            "查到的第1本書\n",
            "查到的第2本書\n",
            "查到的第3本書\n",
            "第4個分類:輕小說\n",
            "共有2頁\n",
            "第1頁:https://www.books.com.tw/web/books_nbtopm_15/?v=1&o=5&page=1\n",
            "查到的第1本書\n",
            "查到的第2本書\n",
            "查到的第3本書\n",
            "第2頁:https://www.books.com.tw/web/books_nbtopm_15/?v=1&o=5&page=2\n",
            "查到的第1本書\n",
            "查到的第2本書\n",
            "查到的第3本書\n",
            "第5個分類:電腦資訊\n",
            "第一頁:https://www.books.com.tw/web/books_nbtopm_19/?v=1&o=5\n",
            "查到的第1本書\n",
            "查到的第2本書\n",
            "查到的第3本書\n"
          ]
        }
      ],
      "source": [
        "import requests\n",
        "from bs4 import BeautifulSoup\n",
        "import openpyxl\n",
        "\n",
        "work = openpyxl.Workbook()\n",
        "sheet = work.worksheets[0]\n",
        "list1 = []\n",
        "\n",
        "\n",
        "url = 'https://www.books.com.tw/web/books_nbtopm_01/?v=1&o=5'\n",
        "urlhead = 'https://www.books.com.tw/web/books_nbtopm_'\n",
        "###顯示模式為直式，排序依照暢銷度\n",
        "urltail = '/?v=1&o=5'\n",
        "\n",
        "###計算第幾個分類\n",
        "num = 1\n",
        "\n",
        "html = requests.get(url)\n",
        "soup = BeautifulSoup(html.text, 'html.parser')\n",
        "res = soup.find('div', {'class':'mod_b type02_l001-1 clearfix'})\n",
        "\n",
        "###取得res中所有的'a'標籤\n",
        "output = res.select(\"a\")\n",
        "#output[-1]  ###<a href=\"http://www.books.com.tw/web/books_nbtopm_20/?loc=P_0003_021\">專業/教科書/政府出版品</a>\n",
        "\n",
        "###只針對想要的類別去取數據(太多的話跑到一半會抓不到資料)\n",
        "interested = ['輕小說', '文學小說', '商業理財', '旅遊', '電腦資訊']\n",
        "for out in output:\n",
        "   kind = out.text\n",
        "   if kind in interested:\n",
        "      ###因為分類的類別不是按照數字順序排列，因此直接從href中去取網址\n",
        "      classify = out[\"href\"]\n",
        "      ###組成所有不同書類別的網址\n",
        "      kindurl = urlhead + classify[41:43] + urltail\n",
        "      print('第' + str(num) + '個分類:' + kind)\n",
        "      showbook(kindurl,kind)\n",
        "      num += 1\n",
        "   else:\n",
        "     continue   \n",
        "\n",
        "listtitle = ['分類','書名','圖片網址','作者','出版社','出版日期','優惠價','內容']\n",
        "\n",
        "sheet.append(listtitle)\n",
        "for data in list1:\n",
        "  sheet.append(data)\n",
        "\n",
        "path = '/content/drive/MyDrive/Colab Notebooks/big data sample/book ranking/'\n",
        "work.save(path + 'books_5.xlsx')"
      ]
    },
    {
      "cell_type": "code",
      "source": [
        "output"
      ],
      "metadata": {
        "colab": {
          "base_uri": "https://localhost:8080/"
        },
        "id": "j1ijQGg_84H4",
        "outputId": "653f176f-733a-45ae-a471-b03fab3c958c"
      },
      "execution_count": 24,
      "outputs": [
        {
          "output_type": "execute_result",
          "data": {
            "text/plain": [
              "[<a href=\"http://www.books.com.tw/web/books_nbtopm_01/?loc=P_0003_001\">文學小說</a>,\n",
              " <a href=\"http://www.books.com.tw/web/books_nbtopm_02/?loc=P_0003_002\">商業理財</a>,\n",
              " <a href=\"http://www.books.com.tw/web/books_nbtopm_03/?loc=P_0003_003\">藝術設計</a>,\n",
              " <a href=\"http://www.books.com.tw/web/books_nbtopm_04/?loc=P_0003_004\">人文社科</a>,\n",
              " <a href=\"http://www.books.com.tw/web/books_nbtopm_07/?loc=P_0003_005\">心理勵志</a>,\n",
              " <a href=\"http://www.books.com.tw/web/books_nbtopm_12/?loc=P_0003_006\">宗教命理</a>,\n",
              " <a href=\"http://www.books.com.tw/web/books_nbtopm_06/?loc=P_0003_007\">自然科普</a>,\n",
              " <a href=\"http://www.books.com.tw/web/books_nbtopm_08/?loc=P_0003_008\">醫療保健</a>,\n",
              " <a href=\"http://www.books.com.tw/web/books_nbtopm_09/?loc=P_0003_009\">飲食</a>,\n",
              " <a href=\"http://www.books.com.tw/web/books_nbtopm_10/?loc=P_0003_010\">生活風格</a>,\n",
              " <a href=\"http://www.books.com.tw/web/books_nbtopm_11/?loc=P_0003_011\">旅遊</a>,\n",
              " <a href=\"http://www.books.com.tw/web/books_nbtopm_14/?loc=P_0003_012\">童書/青少年文學</a>,\n",
              " <a href=\"http://www.books.com.tw/web/books_nbtopm_24/?loc=P_0003_013\">國中小參考書</a>,\n",
              " <a href=\"http://www.books.com.tw/web/books_nbtopm_13/?loc=P_0003_014\">親子教養</a>,\n",
              " <a href=\"http://www.books.com.tw/web/books_nbtopm_22/?loc=P_0003_015\">影視偶像</a>,\n",
              " <a href=\"http://www.books.com.tw/web/books_nbtopm_15/?loc=P_0003_016\">輕小說</a>,\n",
              " <a href=\"http://www.books.com.tw/web/books_nbtopm_16/?loc=P_0003_017\">漫畫/圖文書</a>,\n",
              " <a href=\"http://www.books.com.tw/web/books_nbtopm_17/?loc=P_0003_018\">語言學習</a>,\n",
              " <a href=\"http://www.books.com.tw/web/books_nbtopm_18/?loc=P_0003_019\">考試用書</a>,\n",
              " <a href=\"http://www.books.com.tw/web/books_nbtopm_19/?loc=P_0003_020\">電腦資訊</a>,\n",
              " <a href=\"http://www.books.com.tw/web/books_nbtopm_20/?loc=P_0003_021\">專業/教科書/政府出版品</a>]"
            ]
          },
          "metadata": {},
          "execution_count": 24
        }
      ]
    }
  ]
}