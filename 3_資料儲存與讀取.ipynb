{
  "nbformat": 4,
  "nbformat_minor": 0,
  "metadata": {
    "colab": {
      "provenance": [],
      "authorship_tag": "ABX9TyNNNhACxpAFwBLpPR02wh5B",
      "include_colab_link": true
    },
    "kernelspec": {
      "name": "python3",
      "display_name": "Python 3"
    },
    "language_info": {
      "name": "python"
    }
  },
  "cells": [
    {
      "cell_type": "markdown",
      "metadata": {
        "id": "view-in-github",
        "colab_type": "text"
      },
      "source": [
        "<a href=\"https://colab.research.google.com/github/HsuLiSheng/big-data/blob/main/3_%E8%B3%87%E6%96%99%E5%84%B2%E5%AD%98%E8%88%87%E8%AE%80%E5%8F%96.ipynb\" target=\"_parent\"><img src=\"https://colab.research.google.com/assets/colab-badge.svg\" alt=\"Open In Colab\"/></a>"
      ]
    },
    {
      "cell_type": "code",
      "execution_count": null,
      "metadata": {
        "id": "9CHMueQew2ow"
      },
      "outputs": [],
      "source": [
        "###檔案open\n",
        "###CSV\n",
        "###EXCEL\n",
        "###SQLite\n",
        "###MySQL\n",
        "###Google試算表"
      ]
    },
    {
      "cell_type": "code",
      "source": [
        "from google.colab import drive\n",
        "\n",
        "drive.mount('/content/drive')"
      ],
      "metadata": {
        "colab": {
          "base_uri": "https://localhost:8080/"
        },
        "id": "D7g9mOU-y2EQ",
        "outputId": "552d237f-bdfe-4b2b-c14a-7b2775b8f54f"
      },
      "execution_count": 1,
      "outputs": [
        {
          "output_type": "stream",
          "name": "stdout",
          "text": [
            "Mounted at /content/drive\n"
          ]
        }
      ]
    },
    {
      "cell_type": "code",
      "source": [
        "pip install gspread oauth2client"
      ],
      "metadata": {
        "colab": {
          "base_uri": "https://localhost:8080/"
        },
        "id": "0P-RhvDXsc1_",
        "outputId": "3bc5a096-13d2-4ec7-d5e6-30420d5e2a2e"
      },
      "execution_count": 2,
      "outputs": [
        {
          "output_type": "stream",
          "name": "stdout",
          "text": [
            "Looking in indexes: https://pypi.org/simple, https://us-python.pkg.dev/colab-wheels/public/simple/\n",
            "Requirement already satisfied: gspread in /usr/local/lib/python3.7/dist-packages (3.4.2)\n",
            "Requirement already satisfied: oauth2client in /usr/local/lib/python3.7/dist-packages (4.1.3)\n",
            "Requirement already satisfied: google-auth in /usr/local/lib/python3.7/dist-packages (from gspread) (2.14.1)\n",
            "Requirement already satisfied: requests>=2.2.1 in /usr/local/lib/python3.7/dist-packages (from gspread) (2.23.0)\n",
            "Requirement already satisfied: certifi>=2017.4.17 in /usr/local/lib/python3.7/dist-packages (from requests>=2.2.1->gspread) (2022.9.24)\n",
            "Requirement already satisfied: urllib3!=1.25.0,!=1.25.1,<1.26,>=1.21.1 in /usr/local/lib/python3.7/dist-packages (from requests>=2.2.1->gspread) (1.24.3)\n",
            "Requirement already satisfied: idna<3,>=2.5 in /usr/local/lib/python3.7/dist-packages (from requests>=2.2.1->gspread) (2.10)\n",
            "Requirement already satisfied: chardet<4,>=3.0.2 in /usr/local/lib/python3.7/dist-packages (from requests>=2.2.1->gspread) (3.0.4)\n",
            "Requirement already satisfied: rsa>=3.1.4 in /usr/local/lib/python3.7/dist-packages (from oauth2client) (4.9)\n",
            "Requirement already satisfied: pyasn1-modules>=0.0.5 in /usr/local/lib/python3.7/dist-packages (from oauth2client) (0.2.8)\n",
            "Requirement already satisfied: six>=1.6.1 in /usr/local/lib/python3.7/dist-packages (from oauth2client) (1.15.0)\n",
            "Requirement already satisfied: httplib2>=0.9.1 in /usr/local/lib/python3.7/dist-packages (from oauth2client) (0.17.4)\n",
            "Requirement already satisfied: pyasn1>=0.1.7 in /usr/local/lib/python3.7/dist-packages (from oauth2client) (0.4.8)\n",
            "Requirement already satisfied: cachetools<6.0,>=2.0.0 in /usr/local/lib/python3.7/dist-packages (from google-auth->gspread) (5.2.0)\n"
          ]
        }
      ]
    },
    {
      "cell_type": "code",
      "source": [
        "content = '''Hello 123456\n",
        "中文測試\n",
        "welcome\n",
        "'''\n",
        "\n",
        "\n",
        "path = '/content/drive/MyDrive/Colab Notebooks/big data sample/data load and save/'\n",
        "f = open(path+'file.txt','w',encoding='UTF-8')   ###指定編碼較符合國際通行以及Linux系統\n",
        "f.write(content)\n",
        "f.close()"
      ],
      "metadata": {
        "id": "OsBGbSjvxJrK"
      },
      "execution_count": null,
      "outputs": []
    },
    {
      "cell_type": "code",
      "source": [
        "###1.\n",
        "'''\n",
        "f = open(path+'file.txt','r',encoding='UTF-8')   ###讀取檔案要用'r'\n",
        "for line in f:\n",
        "  print(line, end=\"\")\n",
        "f.close()  \n",
        "'''\n",
        "\n",
        "###2.with敘述，結束後會自動關閉開啟的檔案\n",
        "with open(path+'file.txt','r',encoding='UTF-8-sig') as f:  ###此刻用的編碼可以防止讀取時第一筆資料多了個字元(文件前端代碼)\n",
        "    #str1 = f.read(15)     ###從目前指標的位置讀取指定長度的字元，未指定會讀取全部的字元\n",
        "    #print(str1)\n",
        "    \n",
        "    #lines = f.readlines()   ###讀取全部內容並以串列方式傳回\n",
        "    #print(type(lines))      ###List\n",
        "    #print(lines)\n",
        "    \n",
        "    print(f.readline())     ###讀取目前指標所在行中size長度的字元，沒參數則會讀取一行(包含'\\n')\n",
        "    print(f.readline(4))"
      ],
      "metadata": {
        "colab": {
          "base_uri": "https://localhost:8080/"
        },
        "id": "lv7aAqpVyKI8",
        "outputId": "81fd30b8-872e-484f-88a2-30befb5368a2"
      },
      "execution_count": null,
      "outputs": [
        {
          "output_type": "stream",
          "name": "stdout",
          "text": [
            "Hello 123456\n",
            "\n",
            "中文測試\n"
          ]
        }
      ]
    },
    {
      "cell_type": "code",
      "source": [
        "import csv\n",
        "\n",
        "###newline=''可以讓資料中的換行字元正確地被解析\n",
        "with open(path+'test.csv', 'w', newline='') as csvfile:\n",
        "  #1.寫入串列資料\n",
        "  writer = csv.writer(csvfile)\n",
        "\n",
        "  ###列入欄位名稱\n",
        "  writer.writerow(['姓名', '身高', '體重'])\n",
        "  ###以串列資料的方式寫入，逗號為分隔字元儲存\n",
        "  writer.writerow(['henry', '175', '75'])\n",
        "  writer.writerow(['David', '180', '88'])\n",
        "\n",
        "  #2.寫入dictionary方式\n",
        "  ###定義欄位\n",
        "  #field = ['姓名', '身高', '體重']\n",
        "  ###將dictionary寫入csv檔\n",
        "  #writer = csv.DictWriter(csvfile, fieldnames=field)\n",
        "  \n",
        "  ###寫入欄位名稱\n",
        "  #writer.writeheader()\n",
        "  \n",
        "  ###以dict方式寫入資料\n",
        "  #writer.writerow({'姓名':'henry', '身高':'175', '體重':'75'})\n",
        "  #writer.writerow({'姓名':'David', '身高':'180', '體重':'88'})"
      ],
      "metadata": {
        "id": "l0fmVtCA5Ung"
      },
      "execution_count": null,
      "outputs": []
    },
    {
      "cell_type": "code",
      "source": [
        "with open(path+'test.csv', newline='') as csvfile:\n",
        "  ###1.\n",
        "  #rows = csv.reader(csvfile)\n",
        "  #for row in rows:\n",
        "  #  print(row)\n",
        "\n",
        "  ###2.用dictionary格式讀取資料\n",
        "  ###將每一列資料轉成dictionary(第一個row為欄位名稱)\n",
        "  rows = csv.DictReader(csvfile)\n",
        "  for row in rows:\n",
        "    print(row['姓名'], row['身高'], row['體重'])"
      ],
      "metadata": {
        "colab": {
          "base_uri": "https://localhost:8080/"
        },
        "id": "sI31jzsD7mX7",
        "outputId": "83fd0b8e-0a7d-4370-9397-0b28cfb185dc"
      },
      "execution_count": null,
      "outputs": [
        {
          "output_type": "stream",
          "name": "stdout",
          "text": [
            "henry 175 75\n",
            "David 180 88\n"
          ]
        }
      ]
    },
    {
      "cell_type": "code",
      "source": [
        "import openpyxl\n",
        "\n",
        "###建立一個新的工作簿\n",
        "workbook = openpyxl.Workbook()\n",
        "\n",
        "###取得工作簿的第一個工作表\n",
        "sheet = workbook.worksheets[0]\n",
        "\n",
        "###設定工作表儲存格的內容\n",
        "sheet['A1'] = 'Hello'\n",
        "sheet['B1'] = 'World'\n",
        "\n",
        "###用串列方式寫入\n",
        "listtitle = [\"姓名\",\"電話\"]\n",
        "sheet.append(listtitle)\n",
        "listdata = ['chou','0911-154782']\n",
        "sheet.append(listdata)\n",
        "\n",
        "workbook.save(path+'test.xlsx')"
      ],
      "metadata": {
        "id": "9ci0NGP5OKns"
      },
      "execution_count": null,
      "outputs": []
    },
    {
      "cell_type": "code",
      "source": [
        "work = openpyxl.load_workbook(path+'test.xlsx')\n",
        "\n",
        "sheet = work.worksheets[0]\n",
        "\n",
        "###value顯示儲存格內容\n",
        "print(sheet['A1'], sheet['A1'].value)\n",
        "\n",
        "###取得總行，列數\n",
        "print(sheet.max_row, sheet.max_column)\n",
        "\n",
        "for i in range(1, sheet.max_row+1):\n",
        "  for j in range(1, sheet.max_column+1):\n",
        "     ###cell能讀取儲存格，再用value顯示儲存格的內容\n",
        "     print(sheet.cell(row=i, column=j).value, end=' ')\n",
        "  print()\n",
        "\n",
        "sheet['A3'] = 'david'\n",
        "work.save(path+'test.xlsx')  "
      ],
      "metadata": {
        "colab": {
          "base_uri": "https://localhost:8080/"
        },
        "id": "QB2FxGTfPw9w",
        "outputId": "ac2bda0c-91d2-4a5a-bc2d-efafa251a7f7"
      },
      "execution_count": null,
      "outputs": [
        {
          "output_type": "stream",
          "name": "stdout",
          "text": [
            "<Cell 'Sheet'.A1> Hello\n",
            "3 2\n",
            "Hello World \n",
            "姓名 電話 \n",
            "chou 0911-154782 \n"
          ]
        }
      ]
    },
    {
      "cell_type": "code",
      "source": [
        "import sqlite3\n",
        "'''\n",
        "###1.用cursor的方式建立物件，並使用execute執行SQL的指令\n",
        "###建立資料庫的連線\n",
        "conn = sqlite3.connect('test.sqlite')\n",
        "cursor = conn.cursor()\n",
        "\n",
        "###建立一個資料表\n",
        "sql = 'CREATE TABLE IF NOT EXISTS table01 (\"num\" INTEGER PRIMARY KEY NOT NULL, \"tel\" TEXT)'\n",
        "cursor.execute(sql)\n",
        "\n",
        "###新增一筆紀錄\n",
        "sqlstr = 'insert into table01 values (1, \"02-1234567\")'\n",
        "cursor.execute(sqlstr)\n",
        "\n",
        "###主動更新\n",
        "conn.commit()\n",
        "\n",
        "###關閉資料庫連線\n",
        "conn.close()\n",
        "'''\n",
        "\n",
        "###2.直接利用connection的execute執行SQL的命令\n",
        "conn = sqlite3.connect('test.sqlite')\n",
        "\n",
        "###新增資料表\n",
        "sql = 'CREATE TABLE IF NOT EXISTS table01 (\"num\" INTEGER PRIMARY KEY NOT NULL, \"tel\" TEXT)'\n",
        "conn.execute(sql)\n",
        "conn.commit()\n",
        "\n",
        "###移除num=1的這筆資料\n",
        "sql = 'delete from table01 where num=1'\n",
        "###刪除table01資料表\n",
        "#sql = 'DROP TABLE table01'\n",
        "conn.execute(sql)\n",
        "conn.commit()\n",
        "\n",
        "###新增一筆資料\n",
        "num = 2\n",
        "tel = '02-7451264'\n",
        "sqlstr = \"insert into table01 values ({},'{}')\".format(num,tel)\n",
        "cursor.execute(sqlstr)\n",
        "conn.commit()\n",
        "\n",
        "###更新資料表中有條件的資料\n",
        "sqlstr = \"update table01 set tel='{}' where num= {}\".format(\"024-1564778\",2)\n",
        "cursor.execute(sqlstr)\n",
        "conn.commit()"
      ],
      "metadata": {
        "colab": {
          "base_uri": "https://localhost:8080/"
        },
        "id": "9D6nJiVtc6Vm",
        "outputId": "393143ca-9823-42e3-a2c5-becb00e3b14c"
      },
      "execution_count": null,
      "outputs": [
        {
          "output_type": "stream",
          "name": "stdout",
          "text": [
            "[]\n"
          ]
        }
      ]
    },
    {
      "cell_type": "code",
      "source": [
        "conn = sqlite3.connect('test.sqlite')\n",
        "\n",
        "cursor = conn.execute('select * from table01')\n",
        "rows = cursor.fetchall() ###以二維串列取得資料表符合所有查詢條件的資料\n",
        "print(rows)\n",
        "for row in rows:\n",
        "  print(\"{}\\t{}\".format(row[0],row[1]))\n",
        "\n",
        "cursor = conn.execute('select * from table01 where num=2')\n",
        "row = cursor.fetchone() ###以串列方式取得資料表符合查詢條件的第一筆資料\n",
        "if not row==None:\n",
        "   print(\"{}\\t{}\".format(row[0],row[1]))\n",
        "else:\n",
        "   print(row)\n",
        "\n",
        "conn.close()"
      ],
      "metadata": {
        "colab": {
          "base_uri": "https://localhost:8080/"
        },
        "id": "68zqyUBBegD4",
        "outputId": "d66e95f6-8051-43d2-e600-5be999f97aa7"
      },
      "execution_count": null,
      "outputs": [
        {
          "output_type": "stream",
          "name": "stdout",
          "text": [
            "[(2, '024-1564778')]\n",
            "2\t024-1564778\n",
            "2\t024-1564778\n"
          ]
        }
      ]
    },
    {
      "cell_type": "code",
      "source": [
        "pip install pymysql==0.8.0"
      ],
      "metadata": {
        "colab": {
          "base_uri": "https://localhost:8080/"
        },
        "id": "nQD_a7ZXhei2",
        "outputId": "bc369b36-d6df-4b8e-9498-1844ba5d1ff8"
      },
      "execution_count": null,
      "outputs": [
        {
          "output_type": "stream",
          "name": "stdout",
          "text": [
            "Looking in indexes: https://pypi.org/simple, https://us-python.pkg.dev/colab-wheels/public/simple/\n",
            "Collecting pymysql==0.8.0\n",
            "  Downloading PyMySQL-0.8.0-py2.py3-none-any.whl (83 kB)\n",
            "\u001b[K     |████████████████████████████████| 83 kB 1.3 MB/s \n",
            "\u001b[?25hInstalling collected packages: pymysql\n",
            "Successfully installed pymysql-0.8.0\n"
          ]
        }
      ]
    },
    {
      "cell_type": "code",
      "source": [
        "import pymysql\n",
        "\n",
        "conn = pymysql.connect('localhost', port=3306, user='root', passwd='', charset='utf8', db='pythondb')\n",
        "cursor = conn.cursor()\n",
        "\n",
        "cursor.execute(\"drop table if exists score\")  ###如果資料表已存在，刪除後再重建\n",
        "sql = \n",
        "CREATE TABLE score (\n",
        "sid int not null auto_increment primary key,  ###第一個欄位會給一個自動產生且不重複的流水號\n",
        "姓名 char(20),  \n",
        "座號 char(3),\n",
        "國文 int,\n",
        "數學 int\n",
        ")\n",
        "\n",
        "\n",
        "cursor.execute(sql)\n",
        "\n",
        "conn.commit()\n",
        "cursor.close()\n",
        "conn.close()\n",
        "\n",
        "###新增資料\n",
        "conn = pymysql.connect('localhost', port=3306, user='root', passwd='', charset='utf8', db='pythondb')\n",
        "cursor = conn.cursor()\n",
        "###sid第一個欄位不用寫\n",
        "sqlstr = \"insert into score (姓名， 座號， 國文， 數學) values ('李大毛', '2', 83,61)\"\n",
        "cursor.execute(sqlstr)\n",
        "sqlstr = \"insert into score (姓名， 座號， 國文， 數學) values ('王大明', '4', 82,81)\"\n",
        "cursor.execute(sqlstr)\n",
        "\n",
        "###讀取資料\n",
        "sql1 = \"select * from score\"\n",
        "cursor.execute(sql1)\n",
        "data = cursor.fetchall()\n",
        "\n",
        "###修改資料再讀取全部資料\n",
        "#更新資料要加入條件，不然所有資料都會更新:(%s為字串，%d為數值)\n",
        "sql2 = \"update score set 國文=98 where 座號 = '%s'\" % ('4')\n",
        "cursor.execute(sql2)\n",
        "cursor.execute(sql1)\n",
        "data = cursor.fetchall()\n",
        "\n",
        "###刪除資料後再讀取全部資料\n",
        "#刪掉資料要加入條件，不然會刪除資料表中全部資料\n",
        "sql3 = \"delete  from score where 座號 = '%s'\" % ('2')\n",
        "cursor.execute(sql3)\n",
        "cursor.execute(sql1)\n",
        "data = cursor.fetchall()"
      ],
      "metadata": {
        "colab": {
          "base_uri": "https://localhost:8080/",
          "height": 70
        },
        "id": "QjLrETzOSYwK",
        "outputId": "536e1dd3-9481-4397-fc7b-1276429127f8"
      },
      "execution_count": null,
      "outputs": [
        {
          "output_type": "execute_result",
          "data": {
            "text/plain": [
              "'\\nconn = pymysql.connect(\\'localhost\\', port=3306, user=\\'root\\', passwd=\\'\\', charset=\\'utf8\\', db=\\'pythondb\\')\\ncursor = conn.cursor()\\n\\ncursor.execute(\"drop table if exists score\")  ###如果資料表已存在，刪除後再重建\\nsql = \\nCREATE TABLE score (\\nsid int not null auto_increment primary key,  ###第一個欄位會給一個自動產生且不重複的流水號\\n姓名 char(20),\\n座號 char(3),\\n國文 int,\\n數學 int\\n)\\n\\n\\ncursor.execute(sql)\\n\\nconn.commit()\\ncursor.close()\\nconn.close()\\n'"
            ],
            "application/vnd.google.colaboratory.intrinsic+json": {
              "type": "string"
            }
          },
          "metadata": {},
          "execution_count": 50
        }
      ]
    },
    {
      "cell_type": "code",
      "source": [
        "###Google試算表:用python將資料存到google試算表，\n",
        "#步驟:\n",
        "#啟用google sheet API、\n",
        "#建立服務帳戶和服務帳戶的金鑰、\n",
        "#在sheet試算表設定權限、\n",
        "#用python連到試算表並寫入資料"
      ],
      "metadata": {
        "id": "-019iYy0wETU"
      },
      "execution_count": null,
      "outputs": []
    },
    {
      "cell_type": "code",
      "source": [
        "import gspread\n",
        "from oauth2client.service_account import ServiceAccountCredentials\n",
        "\n",
        "###.json的金鑰直接上傳到colab的環境中\n",
        "###建立憑證\n",
        "auth_json_path = 'pythonsheet1-368714-9e76cd9f77db.json'\n",
        "gss_scopes = ['https://spreadsheets.google.com/feeds']\n",
        "\n",
        "###依據上面的憑證建立連線\n",
        "credentials = ServiceAccountCredentials.from_json_keyfile_name(auth_json_path, gss_scopes)\n",
        "gss_client = gspread.authorize(credentials)\n",
        "\n",
        "###google試算表的資料表id(/d/後面 ~ /edit前面)\n",
        "sheet_key = '1tdFMysRDFP5QjMWYj_cYCYVieJFad32JUDzEh5RpyfM'\n",
        "sheet = gss_client.open_by_key(sheet_key).sheet1\n",
        "\n",
        "###清除google sheet資料表的內容\n",
        "sheet.clear()\n",
        "###append_row要以串列的方式新增資料\n",
        "listtitle = ['姓名', '電話']\n",
        "sheet.append_row(listtitle)\n",
        "listdata = ['david', '0954-154876']\n",
        "sheet.append_row(listdata)"
      ],
      "metadata": {
        "colab": {
          "base_uri": "https://localhost:8080/"
        },
        "id": "G02XyfBosm0E",
        "outputId": "33384b38-17cd-4dd2-fb6c-bac00d144e6b"
      },
      "execution_count": 6,
      "outputs": [
        {
          "output_type": "execute_result",
          "data": {
            "text/plain": [
              "{'spreadsheetId': '1tdFMysRDFP5QjMWYj_cYCYVieJFad32JUDzEh5RpyfM',\n",
              " 'tableRange': \"'工作表1'!A1:B1\",\n",
              " 'updates': {'spreadsheetId': '1tdFMysRDFP5QjMWYj_cYCYVieJFad32JUDzEh5RpyfM',\n",
              "  'updatedRange': \"'工作表1'!A2:B2\",\n",
              "  'updatedRows': 1,\n",
              "  'updatedColumns': 2,\n",
              "  'updatedCells': 2}}"
            ]
          },
          "metadata": {},
          "execution_count": 6
        }
      ]
    }
  ]
}