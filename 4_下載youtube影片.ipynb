{
  "nbformat": 4,
  "nbformat_minor": 0,
  "metadata": {
    "colab": {
      "provenance": [],
      "authorship_tag": "ABX9TyOLBhK9o9XY/UsutjoZ/T2k",
      "include_colab_link": true
    },
    "kernelspec": {
      "name": "python3",
      "display_name": "Python 3"
    },
    "language_info": {
      "name": "python"
    }
  },
  "cells": [
    {
      "cell_type": "markdown",
      "metadata": {
        "id": "view-in-github",
        "colab_type": "text"
      },
      "source": [
        "<a href=\"https://colab.research.google.com/github/HsuLiSheng/big-data/blob/main/4_%E4%B8%8B%E8%BC%89youtube%E5%BD%B1%E7%89%87.ipynb\" target=\"_parent\"><img src=\"https://colab.research.google.com/assets/colab-badge.svg\" alt=\"Open In Colab\"/></a>"
      ]
    },
    {
      "cell_type": "code",
      "execution_count": 3,
      "metadata": {
        "colab": {
          "base_uri": "https://localhost:8080/"
        },
        "id": "NwR6yHIoMnhy",
        "outputId": "5c76681c-c180-47cb-d686-e665dd594665"
      },
      "outputs": [
        {
          "output_type": "stream",
          "name": "stdout",
          "text": [
            "Looking in indexes: https://pypi.org/simple, https://us-python.pkg.dev/colab-wheels/public/simple/\n",
            "Collecting pytube\n",
            "  Downloading pytube-12.1.0-py3-none-any.whl (56 kB)\n",
            "\u001b[K     |████████████████████████████████| 56 kB 5.1 MB/s \n",
            "\u001b[?25hInstalling collected packages: pytube\n",
            "Successfully installed pytube-12.1.0\n"
          ]
        }
      ],
      "source": [
        "pip install pytube"
      ]
    },
    {
      "cell_type": "code",
      "source": [
        "from google.colab import drive\n",
        "\n",
        "drive.mount('/content/drive')"
      ],
      "metadata": {
        "colab": {
          "base_uri": "https://localhost:8080/"
        },
        "id": "sujWVvD2M4Gi",
        "outputId": "986954a0-cf55-4db9-fa9a-692290158e3a"
      },
      "execution_count": 1,
      "outputs": [
        {
          "output_type": "stream",
          "name": "stdout",
          "text": [
            "Mounted at /content/drive\n"
          ]
        }
      ]
    },
    {
      "cell_type": "code",
      "source": [
        "from pytube import YouTube\n",
        "import os"
      ],
      "metadata": {
        "id": "c_VDYp9ImJ-u"
      },
      "execution_count": 4,
      "outputs": []
    },
    {
      "cell_type": "code",
      "source": [
        "\n",
        "path = '/content/drive/MyDrive/Colab Notebooks/big data sample/youtube movie'  ###選擇影片要儲存的文件夾\n",
        "\n",
        "yt = YouTube('https://www.youtube.com/watch?v=QFJr-gfiW50')\n",
        "print('下載:' + yt.title)\n",
        "\n",
        "###如果資料夾不存在會建立一個新的\n",
        "if not os.path.isdir(path):  \n",
        "  os.mkdir(path)\n",
        "\n",
        "yt.streams.first().download(path)\n",
        "print(yt.title + '下載完成')"
      ],
      "metadata": {
        "colab": {
          "base_uri": "https://localhost:8080/",
          "height": 35
        },
        "id": "RDA9klLdM-oF",
        "outputId": "c2d85a51-c8f3-4521-9d3d-a1132a70f470"
      },
      "execution_count": null,
      "outputs": [
        {
          "output_type": "execute_result",
          "data": {
            "text/plain": [
              "'/content/drive/MyDrive/Colab Notebooks/big data sample/youtube movie/年度爆笑鉅獻【整形帝王】Men of Plastic 宣傳預告 馬東石X鄭敬淏 攜手打造整形帝國！122(五)當我塑膠！.3gpp'"
            ],
            "application/vnd.google.colaboratory.intrinsic+json": {
              "type": "string"
            }
          },
          "metadata": {},
          "execution_count": 2
        }
      ]
    },
    {
      "cell_type": "code",
      "source": [
        "yt = YouTube('https://www.youtube.com/watch?v=QFJr-gfiW50')\n",
        "print(len(yt.streams)) \n",
        "print(yt.streams.filter(res='720p')) ###filter可以篩選要下載的影片格式"
      ],
      "metadata": {
        "colab": {
          "base_uri": "https://localhost:8080/"
        },
        "id": "FzSt8R0gWNB1",
        "outputId": "84b915ce-5cb3-4574-b82f-df809498e2b1"
      },
      "execution_count": null,
      "outputs": [
        {
          "output_type": "stream",
          "name": "stdout",
          "text": [
            "年度爆笑鉅獻【整形帝王】Men of Plastic 宣傳預告 馬東石X鄭敬淏 攜手打造整形帝國！12/2(五)當我塑膠！\n",
            "20\n",
            "[<Stream: itag=\"22\" mime_type=\"video/mp4\" res=\"720p\" fps=\"24fps\" vcodec=\"avc1.64001F\" acodec=\"mp4a.40.2\" progressive=\"True\" type=\"video\">, <Stream: itag=\"136\" mime_type=\"video/mp4\" res=\"720p\" fps=\"24fps\" vcodec=\"avc1.64001f\" progressive=\"False\" type=\"video\">, <Stream: itag=\"247\" mime_type=\"video/webm\" res=\"720p\" fps=\"24fps\" vcodec=\"vp9\" progressive=\"False\" type=\"video\">]\n"
          ]
        }
      ]
    },
    {
      "cell_type": "code",
      "source": [
        "path1 = '/content/drive/MyDrive/Colab Notebooks/big data sample/youtube movie1'\n",
        "\n",
        "yt = YouTube('https://www.youtube.com/watch?v=QFJr-gfiW50')\n",
        "print('影片名稱:' + yt.title)\n",
        "print('影片格式共有' + str(len(yt.streams)) + '種')\n",
        "\n",
        "if not os.path.isdir(path1):\n",
        "  os.mkdir(path1)\n",
        "\n",
        "###res:解析度，subtype:影片類型，adaptive:篩選只具有影像或聲音其中一種的格式， progressive:同時具有影像和聲音的格式\n",
        "yt.streams.filter(res='720p', progressive=True).first().download(path1)\n",
        "print(yt.title + '下載完成')"
      ],
      "metadata": {
        "colab": {
          "base_uri": "https://localhost:8080/"
        },
        "id": "PeQrayBrXHHy",
        "outputId": "b7d20dfc-a55e-4ad6-98b9-879d92495fde"
      },
      "execution_count": null,
      "outputs": [
        {
          "output_type": "stream",
          "name": "stdout",
          "text": [
            "影片名稱:年度爆笑鉅獻【整形帝王】Men of Plastic 宣傳預告 馬東石X鄭敬淏 攜手打造整形帝國！12/2(五)當我塑膠！\n",
            "影片格式共有20種\n",
            "年度爆笑鉅獻【整形帝王】Men of Plastic 宣傳預告 馬東石X鄭敬淏 攜手打造整形帝國！12/2(五)當我塑膠！下載完成\n"
          ]
        }
      ]
    },
    {
      "cell_type": "code",
      "source": [
        "import requests\n",
        "import re\n",
        "import time\n",
        "from pytube import Playlist\n",
        "\n",
        "videolist = []\n",
        "\n",
        "path1 = '/content/drive/MyDrive/Colab Notebooks/big data sample/youtube movie1'\n",
        "\n",
        "urltext = '/watch?v=-kfVp3tqYvc&list=RDDyFIzKYQQYE'\n",
        "url = 'https://www.youtube.com' + urltext\n",
        "\n",
        "###https://www.youtube.com/watch?v=\n",
        "urlhead = url[:32]  \n",
        "###&list=RDDyFIzKYQQYE\n",
        "urltail = url[43:]  \n",
        "\n",
        "if '&list' not in url:\n",
        "  print('不是播放清單')\n",
        "else:\n",
        "  html = requests.get(url)\n",
        "  res = re.findall(r'watch\\?v=(.*?)list', html.text) ###取得watch\\?v= 及 list 之間的字元\n",
        "  for output in res:\n",
        "    if len(output)<30:  ###過濾，因為以正規表達式取得的字元很多(以此為例：len(res)=78，最後結果len(videolist)=26)\n",
        "      tem = urlhead + output[:11] + urltail  ###同個播放清單前面和後面應該一樣\n",
        "      if tem not in videolist:\n",
        "       videolist.append(tem)\n",
        "\n",
        "print(videolist)"
      ],
      "metadata": {
        "colab": {
          "base_uri": "https://localhost:8080/"
        },
        "id": "BFHOMP_nX_1J",
        "outputId": "9baaf248-3c89-4d37-c6cf-c6e73d9fd180"
      },
      "execution_count": 10,
      "outputs": [
        {
          "output_type": "stream",
          "name": "stdout",
          "text": [
            "['https://www.youtube.com/watch?v=-kfVp3tqYvc&list=RDDyFIzKYQQYE', 'https://www.youtube.com/watch?v=DyFIzKYQQYE&list=RDDyFIzKYQQYE', 'https://www.youtube.com/watch?v=i2vKJ3RczC0&list=RDDyFIzKYQQYE', 'https://www.youtube.com/watch?v=GsKbnsUN2RE&list=RDDyFIzKYQQYE', 'https://www.youtube.com/watch?v=Dnj5Tcpev0Q&list=RDDyFIzKYQQYE', 'https://www.youtube.com/watch?v=BRcudpJzy1I&list=RDDyFIzKYQQYE', 'https://www.youtube.com/watch?v=XKuL5xaKZHM&list=RDDyFIzKYQQYE', 'https://www.youtube.com/watch?v=k_l7FVsqUyM&list=RDDyFIzKYQQYE', 'https://www.youtube.com/watch?v=1CcQDuuhdXA&list=RDDyFIzKYQQYE', 'https://www.youtube.com/watch?v=NluFa3bwZig&list=RDDyFIzKYQQYE', 'https://www.youtube.com/watch?v=F5FlN-NBGo8&list=RDDyFIzKYQQYE', 'https://www.youtube.com/watch?v=m6kiNlnJ2Uk&list=RDDyFIzKYQQYE', 'https://www.youtube.com/watch?v=Ew4VvF0DPMc&list=RDDyFIzKYQQYE', 'https://www.youtube.com/watch?v=K4i7UfFSr8k&list=RDDyFIzKYQQYE', 'https://www.youtube.com/watch?v=lN-GUBIMDNA&list=RDDyFIzKYQQYE', 'https://www.youtube.com/watch?v=wSBXfzgqHtE&list=RDDyFIzKYQQYE', 'https://www.youtube.com/watch?v=h2VO3TXoXWw&list=RDDyFIzKYQQYE', 'https://www.youtube.com/watch?v=04cHqPMD4So&list=RDDyFIzKYQQYE', 'https://www.youtube.com/watch?v=54yKHYSwJcQ&list=RDDyFIzKYQQYE', 'https://www.youtube.com/watch?v=P_pyfLArjQg&list=RDDyFIzKYQQYE', 'https://www.youtube.com/watch?v=na_xv5iFt2Y&list=RDDyFIzKYQQYE', 'https://www.youtube.com/watch?v=F2uX6ByoW7A&list=RDDyFIzKYQQYE', 'https://www.youtube.com/watch?v=6OGz3OSbk0g&list=RDDyFIzKYQQYE', 'https://www.youtube.com/watch?v=9qWmKr80HgA&list=RDDyFIzKYQQYE', 'https://www.youtube.com/watch?v=Ie1KcGvBN_k&list=RDDyFIzKYQQYE', 'https://www.youtube.com/watch?v=qf09H2xFq2s&list=RDDyFIzKYQQYE']\n"
          ]
        }
      ]
    },
    {
      "cell_type": "code",
      "source": [
        "print('開始下載')\n",
        "\n",
        "n=1\n",
        "for i in videolist:\n",
        "  yt = YouTube(i)\n",
        "  print(str(n) + \":\" + yt.title)\n",
        "  try:\n",
        "    yt.streams.filter(res='720p',progressive=True).first().download(path1)\n",
        "  except:\n",
        "    yt.streams.filter(res='360p',progressive=True).first().download(path1)  \n",
        "  n+=1\n",
        "  time.sleep(5)\n",
        "  print('下載完成')\n",
        " "
      ],
      "metadata": {
        "colab": {
          "base_uri": "https://localhost:8080/"
        },
        "id": "pqdPqxZ3ohAk",
        "outputId": "f96744c4-d172-4340-ff10-bc3e73eeb655"
      },
      "execution_count": 14,
      "outputs": [
        {
          "output_type": "stream",
          "name": "stdout",
          "text": [
            "開始下載\n",
            "1:于文文Kelly Yu《体面 Decency》Official Music Video\n",
            "下載完成\n",
            "2:田馥甄 Hebe Tien [寂寞寂寞就好 Leave Me Alone] Official MV\n",
            "下載完成\n",
            "3:飞鸟和蝉\n",
            "下載完成\n",
            "4:HEBE TIEN 田馥甄 [你就不要想起我 You Better Not Think About Me] Official MV HD\n",
            "下載完成\n",
            "5:李榮浩 Ronghao Li - 年少有為 If I Were Young (華納 Official HD 官方MV)\n",
            "下載完成\n",
            "6:A-Lin《有一種悲傷 A Kind of Sorrow》Official Music Video - 電影『比悲傷更悲傷的故事 More Than Blue 』主題曲\n",
            "下載完成\n",
            "7:薛之謙 Joker Xue【演員】官方完整版 MV\n",
            "下載完成\n",
            "8:梁靜茹 Fish Leong【可惜不是你 Unfortunately Not You】Official Music Video\n",
            "下載完成\n",
            "9:田馥甄 Hebe Tien [還是要幸福 Still in Happiness] Official MV\n",
            "下載完成\n",
            "10:林芯儀 Shennio Lin - 等一個人 (官方版MV) - 電影「等一個人咖啡」主題曲\n",
            "下載完成\n",
            "11:[avex官方] A-Lin 給我一個理由忘記 (MV完整版)\n",
            "下載完成\n",
            "12:A-Lin《忘記擁抱 Forget Love》 Official Music Video HD - 電影『234說愛你』主題曲\n",
            "下載完成\n",
            "13:Eric周興哲《以後別做朋友 The Distance of Love》Official Music Video\n",
            "下載完成\n",
            "14:陳小春 Jordan Chan – 獨家記憶 (Official Music Video)\n",
            "下載完成\n",
            "15:閻奕格 Janice Yan [ 也可以 Might as well ] Official Music Video (電影「追婚日記」插曲)\n",
            "下載完成\n",
            "16:Eric周興哲《你，好不好？ How Have You Been?》Official Music Video《遺憾拼圖》片尾曲\n",
            "下載完成\n",
            "17:從前說 - 小阿七『後來你娶了理想 我嫁給了戶對門當，愛與不愛又何妨』【動態歌詞】\n",
            "下載完成\n",
            "18:王菲 - 匆匆那年 Official MV (官方頻道)\n",
            "下載完成\n",
            "19:蕭亞軒 Elva Hsiao - 錯的人 Wrong Man (官方完整版MV)\n",
            "下載完成\n",
            "20:蘇打綠 sodagreen - 【我好想你】「小時代」電影主題曲MV\n",
            "下載完成\n",
            "21:田馥甄Hebe Tien [魔鬼中的天使 Angel Devil] Official MV\n",
            "下載完成\n",
            "22:方文山電影同名主題曲【聽見下雨的聲音】完整MV 演唱:魏如昀 / 詞:方文山 / 曲:周杰倫\n",
            "下載完成\n",
            "23:彭佳慧 Julia Peng - 大齡女子 Darling (高畫質 HD 官方完整版 MV)\n",
            "下載完成\n",
            "24:蔡依林 Jolin Tsai X 田馥甄 Hebe《刻在我心底的名字》Official Live Music Video\n",
            "下載完成\n",
            "25:徐佳瑩 LaLa【失落沙洲】[Official Music Video]\n",
            "下載完成\n",
            "26:aMEI張惠妹 [ Full Name 連名帶姓 ] Official Music Video\n",
            "下載完成\n"
          ]
        }
      ]
    }
  ]
}